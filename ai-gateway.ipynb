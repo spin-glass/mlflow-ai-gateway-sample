{
 "cells": [
  {
   "cell_type": "markdown",
   "metadata": {},
   "source": [
    "## Fluent API"
   ]
  },
  {
   "cell_type": "code",
   "execution_count": 3,
   "metadata": {},
   "outputs": [
    {
     "name": "stdout",
     "output_type": "stream",
     "text": [
      "{'candidates': [{'message': {'content': 'The best day of the week is '\n",
      "                                        'subjective and can vary depending on '\n",
      "                                        'individual preferences and '\n",
      "                                        'circumstances. Some people may prefer '\n",
      "                                        'weekends (Saturday and Sunday) as '\n",
      "                                        'they offer a break from work or '\n",
      "                                        'school and allow for relaxation or '\n",
      "                                        'leisure activities. Others may enjoy '\n",
      "                                        'Fridays as they mark the end of the '\n",
      "                                        'workweek and the beginning of the '\n",
      "                                        'weekend. Ultimately, the best day of '\n",
      "                                        'the week is a personal preference.',\n",
      "                             'role': 'assistant'},\n",
      "                 'metadata': {'finish_reason': 'stop'}}],\n",
      " 'metadata': {'input_tokens': 16,\n",
      "              'model': 'gpt-3.5-turbo-0613',\n",
      "              'output_tokens': 78,\n",
      "              'route_type': 'llm/v1/chat',\n",
      "              'total_tokens': 94}}\n"
     ]
    }
   ],
   "source": [
    "from mlflow.gateway import query, set_gateway_uri\n",
    "\n",
    "set_gateway_uri(gateway_uri=\"http://localhost:5000\")\n",
    "\n",
    "response = query(\n",
    "    \"chat\",\n",
    "    {\"messages\": [{\"role\": \"user\", \"content\": \"What is the best day of the week?\"}]},\n",
    ")\n",
    "\n",
    "import pprint\n",
    "pprint.pprint(response)"
   ]
  }
 ],
 "metadata": {
  "kernelspec": {
   "display_name": ".venv",
   "language": "python",
   "name": "python3"
  },
  "language_info": {
   "codemirror_mode": {
    "name": "ipython",
    "version": 3
   },
   "file_extension": ".py",
   "mimetype": "text/x-python",
   "name": "python",
   "nbconvert_exporter": "python",
   "pygments_lexer": "ipython3",
   "version": "3.11.1"
  },
  "orig_nbformat": 4
 },
 "nbformat": 4,
 "nbformat_minor": 2
}
